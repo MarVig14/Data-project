{
 "cells": [
  {
   "cell_type": "code",
   "execution_count": null,
   "metadata": {},
   "outputs": [],
   "source": [
    "import csv\n",
    "from csv import reader\n",
    "\n",
    "work_list = []\n",
    "with open(\"Customer Effort Score (Voice eshop) - Copy.csv\", encoding = 'utf-8') as fp:\n",
    "    read_file = csv.reader(fp)\n",
    "    for row in read_file:\n",
    "        work_list.append(row)"
   ]
  },
  {
   "cell_type": "code",
   "execution_count": null,
   "metadata": {},
   "outputs": [],
   "source": [
    "work_list[0]\n"
   ]
  },
  {
   "cell_type": "code",
   "execution_count": null,
   "metadata": {},
   "outputs": [],
   "source": [
    "new_list = [row[5:] for row in work_list]"
   ]
  },
  {
   "cell_type": "code",
   "execution_count": null,
   "metadata": {},
   "outputs": [],
   "source": [
    "new_list = new_list[1:]"
   ]
  },
  {
   "cell_type": "code",
   "execution_count": null,
   "metadata": {},
   "outputs": [],
   "source": [
    "len(new_list)"
   ]
  },
  {
   "cell_type": "code",
   "execution_count": null,
   "metadata": {},
   "outputs": [],
   "source": [
    "clean_list = [i for i in new_list if i[1] is not '']\n",
    "len(clean_list)\n",
    "    "
   ]
  },
  {
   "cell_type": "code",
   "execution_count": null,
   "metadata": {},
   "outputs": [],
   "source": [
    "bad_char = [',','.','!','?', '(',')', ':','\"','-', '😁']\n",
    "\n",
    "def remove_char_function(string):\n",
    "    for char in bad_char:\n",
    "        string = string.replace(char,'')\n",
    "    return string\n",
    "\n",
    "def edit_new_row(string):\n",
    "    if '\\n' in string:\n",
    "        string = string.replace(\"\\n\", ' ')\n",
    "    return string\n",
    "\n",
    "for row in clean_list:\n",
    "    comment = row[1]\n",
    "    comment = comment.strip()\n",
    "    comment = comment.lower()\n",
    "    comment = remove_char_function(comment)\n",
    "    comment = edit_new_row(comment)\n",
    "    row[1] = comment "
   ]
  },
  {
   "cell_type": "code",
   "execution_count": null,
   "metadata": {},
   "outputs": [],
   "source": [
    "clean_list[:5]"
   ]
  },
  {
   "cell_type": "code",
   "execution_count": null,
   "metadata": {},
   "outputs": [],
   "source": [
    "# make a dictionary from list\n",
    "\n",
    "main_dict = {}\n",
    "def merge(main_dict, sub_dict):\n",
    "    for key, value in sub_dict.items():\n",
    "        if key in main_dict:\n",
    "            main_dict[key] = main_dict[key] + ' ' + sub_dict[key]\n",
    "        else:\n",
    "            main_dict.update({key: value})\n",
    "    return main_dict\n",
    "\n",
    "for row in clean_list:\n",
    "    value = row[1]\n",
    "    key = row[0]\n",
    "    sub_dict = {key : value}\n",
    "    main_dict = merge(main_dict, sub_dict)\n",
    "    \n",
    "main_dict"
   ]
  },
  {
   "cell_type": "code",
   "execution_count": null,
   "metadata": {},
   "outputs": [],
   "source": [
    "stopwords = ['none', 'je', 'to', 'na', 'v', 'a', 'som', 'sa', 'mi', 'o']"
   ]
  },
  {
   "cell_type": "code",
   "execution_count": null,
   "metadata": {},
   "outputs": [],
   "source": [
    "def removeStopWords(wordlist, stopwords):\n",
    "    return [word for word in wordlist if word not in stopwords]\n",
    "\n",
    "def wordListToFreqDict(wordlist):\n",
    "    wordfreq = [wordlist.count(p) for p in wordlist]\n",
    "    return dict(list(zip(wordlist,wordfreq)))\n",
    "\n",
    "def sortFreqDict(freqdict):\n",
    "    aux = [(freqdict[key], key) for key in freqdict]\n",
    "    aux.sort()\n",
    "    aux.reverse()\n",
    "    return aux\n",
    "\n",
    "def sortMainDict(main_dict):\n",
    "    sort = [(key, main_dict[key]) for key in main_dict]\n",
    "    sort.sort()\n",
    "    return sort\n",
    "    \n",
    "\n",
    "for key, value in main_dict.items():\n",
    "    wordstring = value\n",
    "    wordlist = wordstring.split()\n",
    "    wordlist = removeStopWords(wordlist, stopwords)\n",
    "    dictionary = wordListToFreqDict(wordlist)\n",
    "    sort_dict = sortFreqDict(dictionary)\n",
    "    main_dict[key] = sort_dict\n",
    "    sorted_list = sortMainDict(main_dict)"
   ]
  },
  {
   "cell_type": "code",
   "execution_count": null,
   "metadata": {},
   "outputs": [],
   "source": [
    "sorted_list"
   ]
  },
  {
   "cell_type": "code",
   "execution_count": null,
   "metadata": {},
   "outputs": [],
   "source": [
    "for s in sorted_list: \n",
    "    key = s[0]\n",
    "    value = s[1]\n",
    "    value = value[:5]\n",
    "    print('{}---->{}'.format(key,value))"
   ]
  },
  {
   "cell_type": "code",
   "execution_count": null,
   "metadata": {},
   "outputs": [],
   "source": [
    "for key, value in main_dict.items():\n",
    "    value = str(value[:5])\n",
    "    print('{} ----> {}'.format(key, value))"
   ]
  },
  {
   "cell_type": "code",
   "execution_count": null,
   "metadata": {},
   "outputs": [],
   "source": [
    "slovnik = {1: 'an obol som tam', 2: 'ale tak co uz mam robit', 1: 'veru ze ano', 3: 'ano, ano, ale mam co robit, ano'}\n",
    "\n",
    "stopwords = ['none', 'je', 'to', 'na', 'v', 'a', 'som', 'sa', 'lebo', 'mi', 'o']\n",
    "\n",
    "def removeStopWords(wordlist, stopwords):\n",
    "    return [word for word in wordlist if word not in stopwords]\n",
    "\n",
    "def wordListToFreqDict(wordlist):\n",
    "    wordfreq = [wordlist.count(p) for p in wordlist]\n",
    "    return dict(list(zip(wordlist,wordfreq)))\n",
    "\n",
    "def sortFreqDict(freqdict):\n",
    "    aux = [(freqdict[key], key) for key in freqdict]\n",
    "    aux.sort()\n",
    "    aux.reverse()\n",
    "    return aux\n",
    "\n",
    "wordlist = []\n",
    "for key, value in slovnik.items():\n",
    "    koment = value\n",
    "    print(koment)\n",
    "    wordlist = koment.split()\n",
    "    wordlist = removeStopWords(wordlist, stopwords)\n",
    "    dictionary = wordListToFreqDict(wordlist)\n",
    "    sort_dict = sortFreqDict(dictionary)\n",
    "    slovnik[key] = sort_dict\n",
    "    "
   ]
  },
  {
   "cell_type": "code",
   "execution_count": null,
   "metadata": {},
   "outputs": [],
   "source": [
    "slovnik"
   ]
  },
  {
   "cell_type": "code",
   "execution_count": null,
   "metadata": {},
   "outputs": [],
   "source": [
    "list1 = [[1, 'bla bla gamo'], [2, 'kogm tre mi je je dno'],[1, 'toto tam chcem mat'], [1, 'bla bla']]\n",
    "list1"
   ]
  },
  {
   "cell_type": "code",
   "execution_count": null,
   "metadata": {},
   "outputs": [],
   "source": [
    "slov1 = {}\n",
    "def merge(slov1, sub_dict):\n",
    "    for key, value in sub_dict.items():\n",
    "        if key in slov1:\n",
    "            slov1[key] = slov1[key] + ' ' + sub_dict[key]\n",
    "        else:\n",
    "            slov1.update({key: value})\n",
    "    return slov1\n",
    "\n",
    "for row in list1:\n",
    "    koment = row[1]\n",
    "    key = row[0]\n",
    "    sub_dict = {key : koment}\n",
    "    slov = merge(slov1, sub_dict)\n",
    "    \n",
    "slov1"
   ]
  },
  {
   "cell_type": "code",
   "execution_count": null,
   "metadata": {},
   "outputs": [],
   "source": [
    "list2 = dict(list1)\n",
    "list2"
   ]
  },
  {
   "cell_type": "code",
   "execution_count": null,
   "metadata": {},
   "outputs": [],
   "source": []
  }
 ],
 "metadata": {
  "kernelspec": {
   "display_name": "Python 3",
   "language": "python",
   "name": "python3"
  },
  "language_info": {
   "codemirror_mode": {
    "name": "ipython",
    "version": 3
   },
   "file_extension": ".py",
   "mimetype": "text/x-python",
   "name": "python",
   "nbconvert_exporter": "python",
   "pygments_lexer": "ipython3",
   "version": "3.7.6"
  }
 },
 "nbformat": 4,
 "nbformat_minor": 4
}
