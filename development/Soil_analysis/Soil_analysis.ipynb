{
 "cells": [
  {
   "cell_type": "markdown",
   "metadata": {},
   "source": [
    "### Project analyzes soil data received from sensors. Our main goal is to compare data and see which one is more reliable for measurements."
   ]
  },
  {
   "cell_type": "code",
   "execution_count": null,
   "metadata": {},
   "outputs": [],
   "source": [
    "%matplotlib inline\n",
    "import matplotlib.pyplot as plt\n",
    "import pandas as pd"
   ]
  },
  {
   "cell_type": "code",
   "execution_count": null,
   "metadata": {},
   "outputs": [],
   "source": [
    "list_data = ['L10_switch4', 'L11_switch4', 'L13_sensor123','L23_sensor123', 'L03_sensor003', 'L14_sensor003']\n",
    "\n",
    "data = {}\n",
    "for i in list_data:\n",
    "    value = pd.read_csv('datasets/{}.csv'.format(i))\n",
    "    data[i] = value\n",
    "    \n",
    "for key, value in data.items():\n",
    "    print('{}\\n{}\\n'. format(key, data[key].head(3)))"
   ]
  },
  {
   "cell_type": "markdown",
   "metadata": {},
   "source": [
    "---\n",
    "Some soils have additional columns of Air_Hum and Ai_temp. These features were not measured so we can drop them. \n",
    "\n",
    "---"
   ]
  },
  {
   "cell_type": "code",
   "execution_count": null,
   "metadata": {},
   "outputs": [],
   "source": [
    "# drop Air_Hum, Air_temp columns\n",
    "\n",
    "drop_data = ['L13_sensor123', 'L23_sensor123', 'L03_sensor003']\n",
    "\n",
    "for i in drop_data:\n",
    "    data[i] = data[i].drop(['Air_Hum', 'Air_temp'], axis = 1)"
   ]
  },
  {
   "cell_type": "code",
   "execution_count": null,
   "metadata": {},
   "outputs": [],
   "source": [
    "fig = plt.figure(figsize = (32, 32))\n",
    "\n",
    "for i in range(0,6):\n",
    "    ax = fig.add_subplot(3,2,i+1)\n",
    "\n",
    "    ax.plot(data[list_data[i]]['Moisture'], label = 'Moisture')\n",
    "    ax.set_title(list_data[i])\n",
    "    for key in ax.spines:\n",
    "        ax.spines[key].set_visible(False)\n",
    "    ax.tick_params(bottom = False, top = False, left = False, right = False)\n",
    "\n"
   ]
  },
  {
   "cell_type": "markdown",
   "metadata": {},
   "source": [
    "---\n",
    "We can see from graphs of moisture above, that sensors have usually same values apart from switch4 which values jump too high. We can observe this pattern with any data measured by switch4 and below we can see big difference between minimal and maximal values.  \n",
    "\n",
    "---"
   ]
  },
  {
   "cell_type": "code",
   "execution_count": null,
   "metadata": {},
   "outputs": [],
   "source": [
    "print('Moisture L10_switch4\\n\\nmin: {}\\nmax: {}'.format(data['L10_switch4']['Moisture'].min(), data['L10_switch4']['Moisture'].max()))\n"
   ]
  },
  {
   "cell_type": "markdown",
   "metadata": {},
   "source": [
    "---  \n",
    "We will focus on sensor 003, which data is more meaningful and sufficient.  \n",
    "In next screen we can see plots of all features for sensor003  \n",
    "\n",
    "---"
   ]
  },
  {
   "cell_type": "code",
   "execution_count": null,
   "metadata": {},
   "outputs": [],
   "source": [
    "L14 = data['L14_sensor003']\n",
    "L03 = data['L03_sensor003']"
   ]
  },
  {
   "cell_type": "code",
   "execution_count": null,
   "metadata": {},
   "outputs": [],
   "source": [
    "def plot_sensor003(datasets1, datasets2):    \n",
    "    fig = plt.figure(figsize = (12, 10))\n",
    "    plt.subplot(3,2,1)\n",
    "    plt.plot(datasets1['Moisture'], label = 'Moisture')\n",
    "    plt.title('L14_sensor003')\n",
    "    plt.legend()\n",
    "\n",
    "    plt.subplot(3,2,2)\n",
    "    plt.plot(datasets2['Moisture'], label = 'Moisture')\n",
    "    plt.title('L03_sensor003')\n",
    "\n",
    "    plt.subplot(3,2,3)\n",
    "    plt.plot(datasets1['Soil_temp'], c = 'red', label = 'Soil temp')\n",
    "    plt.legend()\n",
    "\n",
    "    plt.subplot(3,2,4)\n",
    "    plt.plot(datasets2['Soil_temp'], c = 'red', label = 'Soil temp')\n",
    "\n",
    "    plt.subplot(3,2,5)\n",
    "    plt.plot(datasets1['EC'], c = 'orange', label = 'EC')\n",
    "    plt.legend()\n",
    "\n",
    "    plt.subplot(3,2,6)\n",
    "    plt.plot(datasets2['EC'], c = 'orange', label = 'EC')\n",
    "    return fig\n",
    "\n",
    "sensor003 = plot_sensor003(L14, L03)\n",
    "                               "
   ]
  },
  {
   "cell_type": "markdown",
   "metadata": {},
   "source": [
    "---\n",
    "* Soil temp for L14 has some unreasonable values, that we can remove.\n",
    "---\n"
   ]
  },
  {
   "cell_type": "code",
   "execution_count": null,
   "metadata": {},
   "outputs": [],
   "source": [
    "# statistics for L14, min and max values \n",
    "\n",
    "L14['Soil_temp'].describe()"
   ]
  },
  {
   "cell_type": "code",
   "execution_count": null,
   "metadata": {},
   "outputs": [],
   "source": [
    "# values with temp higher than 30 degress\n",
    "\n",
    "high_temp = L14[L14['Soil_temp'] > 30]\n",
    "high_temp"
   ]
  },
  {
   "cell_type": "code",
   "execution_count": null,
   "metadata": {},
   "outputs": [],
   "source": [
    "# values with temp lower than 20 degrees\n",
    "\n",
    "low_temp = L14[L14['Soil_temp'] < 20]\n",
    "low_temp"
   ]
  },
  {
   "cell_type": "code",
   "execution_count": null,
   "metadata": {},
   "outputs": [],
   "source": [
    "# filtering out these values\n",
    "\n",
    "data['L14_sensor003'] = data['L14_sensor003'][(data['L14_sensor003']['Soil_temp'] > 20) & (data['L14_sensor003']['Soil_temp'] < 30)]"
   ]
  },
  {
   "cell_type": "code",
   "execution_count": null,
   "metadata": {},
   "outputs": [],
   "source": [
    "\n",
    "data['L14_sensor003']['Soil_temp'].describe()"
   ]
  },
  {
   "cell_type": "code",
   "execution_count": null,
   "metadata": {},
   "outputs": [],
   "source": [
    "sensor003 = plot_sensor003()"
   ]
  },
  {
   "cell_type": "markdown",
   "metadata": {},
   "source": [
    "---\n",
    "\n",
    "From graphs above, we can see actually 2 experiments. With L14 we measured soil continuosly without any interference. Though L03 soil was measured for 90 minutes and then heated in oven for another 90 minutes. We repeated this cycle 3 times per day and we can observe this pattern everytime values jump high. With soil_temp it's reasonable that values increased after heating, but with moisture we expected to decrease. The reason why the moisture increased after heating could be perhaps due to changed position of coil in soil. \n",
    "\n",
    "---"
   ]
  }
 ],
 "metadata": {
  "kernelspec": {
   "display_name": "Python 3",
   "language": "python",
   "name": "python3"
  },
  "language_info": {
   "codemirror_mode": {
    "name": "ipython",
    "version": 3
   },
   "file_extension": ".py",
   "mimetype": "text/x-python",
   "name": "python",
   "nbconvert_exporter": "python",
   "pygments_lexer": "ipython3",
   "version": "3.7.6"
  }
 },
 "nbformat": 4,
 "nbformat_minor": 4
}
