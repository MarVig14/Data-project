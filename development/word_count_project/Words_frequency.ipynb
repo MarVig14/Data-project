{
 "cells": [
  {
   "cell_type": "markdown",
   "metadata": {},
   "source": [
    "### This project analyzes customer satisfaction by counting word frequency of received feedbacks.\n",
    "We will count the most frequent words to uncover issues that our customers are most concerned or the most satisfied about. Each comment has its own customer rate from 1 to 5 where _1 - unsatisfactory_ and _5 - satisfactory_. This rate will help us better understand if the particular word is meant in positive or negative way. "
   ]
  },
  {
   "cell_type": "code",
   "execution_count": 30,
   "metadata": {},
   "outputs": [],
   "source": [
    "# Open csv file, get list of list to work_list\n",
    "\n",
    "import csv\n",
    "from csv import reader\n",
    "\n",
    "work_list = []\n",
    "with open(\"datasets/Sluzby (Voice Pausal Go) - Satisfaction rate.csv\", encoding = 'utf-8') as fp:\n",
    "    read_file = csv.reader(fp)\n",
    "    for row in read_file:\n",
    "        work_list.append(row)"
   ]
  },
  {
   "cell_type": "code",
   "execution_count": 2,
   "metadata": {},
   "outputs": [
    {
     "name": "stdout",
     "output_type": "stream",
     "text": [
      "[['\\ufeffNumber', 'User', 'Date Submitted', 'Country', 'Device', 'Browser', 'OS', 'Ako ste spokojní s našimi Paušálmi Go na škále 1-5?', 'Prosím, opíšte prečo. Je to pre nás veľmi dôležité.'], ['1', '0', '17/03/2020 16:44', 'Slovakia', 'phone', 'Chrome Mobile 80.0.3987', 'Android', '', ''], ['2', '0', '17/03/2020 16:44', 'Slovakia', 'desktop', 'Chrome 80.0.3987', 'Windows 10', '3', '']]\n"
     ]
    }
   ],
   "source": [
    "# Print first 3 rows. Each list inside of list represents one row in excel \n",
    "# We can see name of columns in the first row\n",
    "\n",
    "print(work_list[:3])"
   ]
  },
  {
   "cell_type": "code",
   "execution_count": 3,
   "metadata": {},
   "outputs": [
    {
     "name": "stdout",
     "output_type": "stream",
     "text": [
      "[['Ako ste spokojní s našimi Paušálmi Go na škále 1-5?', 'Prosím, opíšte prečo. Je to pre nás veľmi dôležité.'], ['', ''], ['3', ''], ['', ''], ['3', '']]\n"
     ]
    }
   ],
   "source": [
    "# We need just rate and comment columns. We will assign them into new_list\n",
    "\n",
    "new_list = [row[-2:] for row in work_list]\n",
    "print(new_list[:5])"
   ]
  },
  {
   "cell_type": "code",
   "execution_count": 4,
   "metadata": {},
   "outputs": [
    {
     "name": "stdout",
     "output_type": "stream",
     "text": [
      "[['2', 'Mám paušál go Europe 40 všade je napísané že mám neobmedzené hovory, sms,  internet ale keďže sa nachádzam často v zahraničí a menej na Slovensku tak mi douctovavali ešte hovorme v rámci eú mimo Sk, ale sám paušál má názov go Europe nie go Slovensko čo pri mesačnom pausale 40 euro dávno mám zaplatené všetky hovory či na Sk alebo v Európe keby som si vynasobil cenu minúty a počet prevodových minút tak možno zaplatím okolo 30 euro aj s internetom som vašim zákazníkom od roku 1998 a ostatný operátori majú lepšie podmienky ako sú u vás. '], ['4', 'Dobré ponuky a mohli by byť aj viac'], ['5', '']]\n"
     ]
    }
   ],
   "source": [
    "# We dont need name of columns. This command will exclude first list and print last 3 rows.\n",
    "\n",
    "new_list = new_list[1:]\n",
    "print(new_list[-3:])"
   ]
  },
  {
   "cell_type": "markdown",
   "metadata": {},
   "source": [
    "We have many rates without comments. Firstly, we need to delete unwanted characters as commas, dots, question marks and etc. After deleting these characters, new empty comments will appear, therefore this step is neccessary to run before deleting empty comments. \n",
    "\n",
    "In next step we have 3 functions:   \n",
    "* remove_char_function remove unwanted characters from bad_char list.  \n",
    "* edit_new_row function remove special character \\n which means new row. Every comment that was added as new row, has this special character, therefore we need to have comments as one line of string.  \n",
    "* strip_lower function strip comments of any additional spaces and make lower cases. "
   ]
  },
  {
   "cell_type": "code",
   "execution_count": 5,
   "metadata": {},
   "outputs": [],
   "source": [
    "# list of unwanted characters\n",
    "bad_char = [',','.','!','?', '(',')', ':','\"','-', '😁', '+']\n",
    "\n",
    "def remove_char_function(string):\n",
    "    for char in bad_char:\n",
    "        string = string.replace(char,'') # removing unwanted character\n",
    "    return string\n",
    "\n",
    "def edit_new_row(string):\n",
    "    if '\\n' in string:\n",
    "        string = string.replace(\"\\n\", ' ') # removing \\n special character\n",
    "    return string\n",
    "\n",
    "def strip_lower(string):\n",
    "    string = string.strip() # strip comments of additional spaces\n",
    "    string = string.lower() # lower case\n",
    "    return string\n",
    "\n",
    "# iteration through each list in new_list\n",
    "\n",
    "for row in new_list:\n",
    "    comment = row[1] # second column assigned to variable comment\n",
    "    comment = remove_char_function(comment) # first function\n",
    "    comment = edit_new_row(comment) # second function \n",
    "    comment = strip_lower(comment) # third function\n",
    "    row[1] = comment # variable comment assigned back to second column"
   ]
  },
  {
   "cell_type": "markdown",
   "metadata": {},
   "source": [
    "Now we can delete empty comments. We will do that by creating clean_list"
   ]
  },
  {
   "cell_type": "code",
   "execution_count": 6,
   "metadata": {},
   "outputs": [
    {
     "data": {
      "text/plain": [
       "[['1', 'su drahe'],\n",
       " ['4', 'mam starsi pausal potrebujem ho zmenit na sucasne potreby'],\n",
       " ['2',\n",
       "  'pozdravujem vas som vas dlhodoby zakaznik a a neviete mi ponuknut ovela nisi pausol alebo moznosti ako konkurencia'],\n",
       " ['3', 'vysoké ceny oproti iným operátorom'],\n",
       " ['4', 'vsetko ok ale cena je vyssia ako konkurencia']]"
      ]
     },
     "execution_count": 6,
     "metadata": {},
     "output_type": "execute_result"
    }
   ],
   "source": [
    "# deleting empty comments\n",
    "\n",
    "clean_list = [i for i in new_list if i[1] is not '']\n",
    "clean_list[:5]\n",
    "    "
   ]
  },
  {
   "cell_type": "markdown",
   "metadata": {},
   "source": [
    "Firstly we will analyze word counts of all comments regardless of rate. To do that, we need to put all comments into one string. "
   ]
  },
  {
   "cell_type": "code",
   "execution_count": 7,
   "metadata": {},
   "outputs": [],
   "source": [
    "all_comments = '' # initialize empty string\n",
    "\n",
    "for row in clean_list: # iterating through list\n",
    "    comment = row[1] # assign second column to comment\n",
    "    all_comments += comment + ' ' # add comment to string\n",
    "\n",
    "all_comments = all_comments.strip() # delete space after last tring"
   ]
  },
  {
   "cell_type": "markdown",
   "metadata": {},
   "source": [
    "Now we have a long line of string in all comments. We can now remove any unwanted words as we have done with unwanted characters. In next step we have 3 functions.  \n",
    "* removeStopWords function will remove unwanted words from stopwords list.  \n",
    "* wordListToFreqDict fuction will count the words into list and create dictionary with key as particular word and value as frequency count of that word.  \n",
    "* sortDict fuction sorts dictionary from most frequent to less frequent word and return list.  \n",
    "\n",
    "**Resource** of these functions can be find here https://programminghistorian.org/en/lessons/counting-frequencies"
   ]
  },
  {
   "cell_type": "code",
   "execution_count": 8,
   "metadata": {},
   "outputs": [],
   "source": [
    "stopwords = ['za', 'je', 'to', 'na', 'v', 'a', 'som', 'sa', 'mi', 'o', 'by', 's', 'ako', 'pre', 'aj', 'si', 'k', 'u', 'tak', 'lebo']\n",
    "\n",
    "def removeStopWords(wordlist, stopwords):\n",
    "    return [word for word in wordlist if word not in stopwords]\n",
    "\n",
    "def wordListToFreqDict(wordlist):\n",
    "    wordfreq = [wordlist.count(p) for p in wordlist] \n",
    "    return dict(list(zip(wordlist, wordfreq)))\n",
    "\n",
    "def sortDict(freqdict):\n",
    "    aux = [(freqdict[key], key) for key in freqdict]\n",
    "    aux.sort()\n",
    "    aux.reverse()\n",
    "    return aux\n",
    "\n",
    "all_comments_list = all_comments.split() # split comments to words\n",
    "all_comments_list = removeStopWords(all_comments_list, stopwords) # removing unwanted words\n",
    "word_freq_dict = wordListToFreqDict(all_comments_list) # counting words and return dictionary\n",
    "word_freq = sortDict(word_freq_dict) # sorting dictionary from most frequent "
   ]
  },
  {
   "cell_type": "markdown",
   "metadata": {},
   "source": [
    "Now we have counted all words. Let's print first 10. "
   ]
  },
  {
   "cell_type": "code",
   "execution_count": 9,
   "metadata": {},
   "outputs": [
    {
     "data": {
      "text/plain": [
       "[(58, 'dát'),\n",
       " (54, 'dat'),\n",
       " (54, 'cena'),\n",
       " (52, 'paušál'),\n",
       " (40, 'viac'),\n",
       " (40, 'malo'),\n",
       " (39, 'pausal'),\n",
       " (37, 'mám'),\n",
       " (36, 'internet'),\n",
       " (34, 'málo')]"
      ]
     },
     "execution_count": 9,
     "metadata": {},
     "output_type": "execute_result"
    }
   ],
   "source": [
    "word_freq[:10]"
   ]
  },
  {
   "cell_type": "markdown",
   "metadata": {},
   "source": [
    "We can see that most frequent words are related to data. We cannot clearly say if customers are satisfied or unsatisfied with data. This applies to other words as well for example price (cena). This is the reason why we are working with rate of customers. We can use rate of comment to give us better overview of customer satisfaction. "
   ]
  },
  {
   "cell_type": "markdown",
   "metadata": {},
   "source": [
    "In order to include rate to particular word, we can firstly use dictionary that has unique values of rate with value of comments. In iteration through clean list, each row will have assigned rate as key and comment as value. These will be included to new dictionary main_dict where each key will be updated with another comment. "
   ]
  },
  {
   "cell_type": "code",
   "execution_count": 10,
   "metadata": {
    "scrolled": true
   },
   "outputs": [],
   "source": [
    "main_dict = {} # initialize empty dictionary\n",
    "\n",
    "def merge(main_dict, sub_dict):\n",
    "    for key, value in sub_dict.items():\n",
    "        if key in main_dict: # if rate is already in main_dict add comment\n",
    "            main_dict[key] = main_dict[key] + ' ' + sub_dict[key] \n",
    "        else: # if rate does not exist in main_dict update all from sub_dict \n",
    "            main_dict.update({key: value}) \n",
    "    return main_dict\n",
    "\n",
    "for row in clean_list:\n",
    "    value = row[1] # assign second column to value\n",
    "    key = row[0] # assign first column to key\n",
    "    sub_dict = {key : value} # make dictionary with key and value\n",
    "    main_dict = merge(main_dict, sub_dict) # call fuction merge\n",
    "    "
   ]
  },
  {
   "cell_type": "markdown",
   "metadata": {},
   "source": [
    "Now when we have dictionary with rates as keys and comments as values, we can iterate through comments that represents line of strings and follow same process as we have done with all comments. We added new function for sorting our final dictionary. "
   ]
  },
  {
   "cell_type": "code",
   "execution_count": 11,
   "metadata": {},
   "outputs": [],
   "source": [
    "def sortMainDict(main_dict):\n",
    "    sort = [(key, main_dict[key]) for key in main_dict]\n",
    "    sort.sort()\n",
    "    return sort  \n",
    "\n",
    "for key, value in main_dict.items():\n",
    "    wordstring = value # assign value of dictionary to wordstring\n",
    "    wordlist = wordstring.split() # split line of strings to words\n",
    "    wordlist = removeStopWords(wordlist, stopwords) # function to remove unwanted words\n",
    "    dictionary = wordListToFreqDict(wordlist) # counting words and return dictionary\n",
    "    sort_dict = sortDict(dictionary) # sorting dictionary from most frequent \n",
    "    main_dict[key] = sort_dict # assign list as value to final dictionary\n",
    "    sorted_list = sortMainDict(main_dict) # sort dictionary based on rate"
   ]
  },
  {
   "cell_type": "markdown",
   "metadata": {},
   "source": [
    "Our last function returned list, so finally we can print first 10 rows and see what we get. "
   ]
  },
  {
   "cell_type": "code",
   "execution_count": 12,
   "metadata": {},
   "outputs": [
    {
     "name": "stdout",
     "output_type": "stream",
     "text": [
      "Rate 1 - Unsatisfied \n",
      "Rate 5 - Satisfied\n",
      "\n",
      "Rate 1: \n",
      "[(12, 'paušál'), (10, 'nemam'), (10, 'dat'), (9, 'malo'), (7, 'ste'), (7, 'pausal'), (7, 'go'), (6, 'volania'), (6, 'nemám'), (6, 'mam')]\n",
      "\n",
      "Rate 2: \n",
      "[(16, 'dát'), (12, 'paušál'), (8, 'od'), (8, 'malo'), (8, 'cenu'), (7, 'sú'), (7, 'pausal'), (7, 'nie'), (7, 'málo'), (7, 'go')]\n",
      "\n",
      "Rate 3: \n",
      "[(29, 'dat'), (26, 'dát'), (25, 'viac'), (21, 'cena'), (20, 'malo'), (18, 'pausal'), (18, 'málo'), (17, 'paušál'), (15, 'nie'), (14, 'go')]\n",
      "\n",
      "Rate 4: \n",
      "[(11, 'cena'), (8, 'sms'), (8, 'potrebujem'), (8, 'neviem'), (7, 'internet'), (7, 'dát'), (7, 'ale'), (6, 'vyhovuje'), (6, 'nie'), (6, 'mam')]\n",
      "\n",
      "Rate 5: \n",
      "[(18, 'mám'), (12, 'volania'), (10, 'všetko'), (10, 'cena'), (8, 'vyhovuje'), (8, 'sms'), (8, 'paušál'), (7, 'čo'), (7, 'super'), (7, 'ste')]\n",
      "\n"
     ]
    }
   ],
   "source": [
    "print('Rate 1 - Unsatisfied \\nRate 5 - Satisfied\\n')\n",
    "for s in sorted_list: \n",
    "    key = s[0]\n",
    "    value = s[1]\n",
    "    value = value[:7]\n",
    "    print('Rate {}: \\n{}\\n'.format(key,value))\n"
   ]
  },
  {
   "cell_type": "markdown",
   "metadata": {},
   "source": [
    "From this overview, we can see that customers were most unsatisfied with **product (pausal)**.  \n",
    "More than 40 customers rated pausal from 1 to 3 from total 52 word frequency. Same applies to data.  \n",
    "Opposite conclusion we can make is about **price (cena)**. More than 40 customers out of total 54, rated price from 3 to 5.  \n",
    "\n",
    "We can conclude that customers are satisfied with **prices**, but are unsatisfied with **data of pausal.**  \n",
    "This helped us better understand our customers and make correct decisions about prices and products. "
   ]
  }
 ],
 "metadata": {
  "kernelspec": {
   "display_name": "Python 3",
   "language": "python",
   "name": "python3"
  },
  "language_info": {
   "codemirror_mode": {
    "name": "ipython",
    "version": 3
   },
   "file_extension": ".py",
   "mimetype": "text/x-python",
   "name": "python",
   "nbconvert_exporter": "python",
   "pygments_lexer": "ipython3",
   "version": "3.7.6"
  }
 },
 "nbformat": 4,
 "nbformat_minor": 4
}
